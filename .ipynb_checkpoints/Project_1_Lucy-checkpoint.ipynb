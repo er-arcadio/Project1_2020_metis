{
 "cells": [
  {
   "cell_type": "code",
   "execution_count": 1,
   "metadata": {},
   "outputs": [],
   "source": [
    "import pandas as pd\n",
    "import numpy as np\n",
    "import matplotlib.pyplot as plt\n",
    "%matplotlib inline"
   ]
  },
  {
   "cell_type": "code",
   "execution_count": 2,
   "metadata": {},
   "outputs": [],
   "source": [
    "def get_data(week_nums):\n",
    "    url = \"http://web.mta.info/developers/data/nyct/turnstile/turnstile_{}.txt\"\n",
    "    dfs = []\n",
    "    for week_num in week_nums:\n",
    "        file_url = url.format(week_num)\n",
    "        dfs.append(pd.read_csv(file_url))\n",
    "    return pd.concat(dfs)\n",
    "        \n",
    "week_nums = [190525, 190518, 190511, 190504]\n",
    "df = get_data(week_nums)"
   ]
  },
  {
   "cell_type": "code",
   "execution_count": 3,
   "metadata": {},
   "outputs": [],
   "source": [
    "#df = pd.read_csv('http://web.mta.info/developers/data/nyct/turnstile/turnstile_200627.txt', header = 0)"
   ]
  },
  {
   "cell_type": "code",
   "execution_count": 4,
   "metadata": {},
   "outputs": [],
   "source": [
    "df.rename(columns={'EXITS                                                               ':'EXITS'}, inplace=True)"
   ]
  },
  {
   "cell_type": "code",
   "execution_count": 5,
   "metadata": {},
   "outputs": [],
   "source": [
    "df['Date_Time'] = df['DATE'] + ' ' + df['TIME']"
   ]
  },
  {
   "cell_type": "code",
   "execution_count": 6,
   "metadata": {},
   "outputs": [],
   "source": [
    "df['Date_Time'] = pd.to_datetime(df['Date_Time'])"
   ]
  },
  {
   "cell_type": "code",
   "execution_count": 7,
   "metadata": {},
   "outputs": [],
   "source": [
    "df = df[df['DESC'] == 'REGULAR']"
   ]
  },
  {
   "cell_type": "code",
   "execution_count": 8,
   "metadata": {},
   "outputs": [],
   "source": [
    "## gets the count of entries and exits by using max counter - min counter per day per turnstile\n",
    "mta_entries = df.groupby(['STATION','C/A','UNIT','SCP','DATE']).ENTRIES.max() - df.groupby(['STATION','C/A','UNIT','SCP','DATE']).ENTRIES.min()\n",
    "mta_exits = df.groupby(['STATION','C/A','UNIT','SCP','DATE']).EXITS.max() - df.groupby(['STATION','C/A','UNIT','SCP','DATE']).EXITS.min()\n",
    "\n",
    "## resetting index of the data\n",
    "mta_entries_flat = mta_entries.reset_index()\n",
    "mta_exits_flat = mta_exits.reset_index()\n",
    "mta_entries_exits = pd.merge(mta_entries_flat, mta_exits_flat, how='outer')"
   ]
  },
  {
   "cell_type": "code",
   "execution_count": 9,
   "metadata": {},
   "outputs": [
    {
     "data": {
      "text/plain": [
       "293097.3400002322"
      ]
     },
     "execution_count": 9,
     "metadata": {},
     "output_type": "execute_result"
    }
   ],
   "source": [
    "mta_entries_exits.ENTRIES.quantile(.9996)"
   ]
  },
  {
   "cell_type": "code",
   "execution_count": 10,
   "metadata": {},
   "outputs": [
    {
     "data": {
      "text/plain": [
       "340128.840000798"
      ]
     },
     "execution_count": 10,
     "metadata": {},
     "output_type": "execute_result"
    }
   ],
   "source": [
    "mta_entries_exits.EXITS.quantile(.9996)"
   ]
  },
  {
   "cell_type": "code",
   "execution_count": 11,
   "metadata": {},
   "outputs": [
    {
     "data": {
      "text/plain": [
       "0          132\n",
       "1          115\n",
       "2         3362\n",
       "3         3658\n",
       "4         3585\n",
       "          ... \n",
       "134946       0\n",
       "134947       1\n",
       "134948       0\n",
       "134949       0\n",
       "134950       0\n",
       "Name: EXITS, Length: 134951, dtype: int64"
      ]
     },
     "execution_count": 11,
     "metadata": {},
     "output_type": "execute_result"
    }
   ],
   "source": [
    "mta_entries_exits['EXITS'].abs()"
   ]
  },
  {
   "cell_type": "code",
   "execution_count": 12,
   "metadata": {},
   "outputs": [],
   "source": [
    "mta_traffic = mta_entries_exits[(mta_entries_exits['ENTRIES']<10000) & (mta_entries_exits['EXITS']<10000) & (mta_entries_exits['ENTRIES'] > 1) & (mta_entries_exits['EXITS'] > 1)]\n"
   ]
  },
  {
   "cell_type": "code",
   "execution_count": 13,
   "metadata": {},
   "outputs": [
    {
     "data": {
      "text/html": [
       "<div>\n",
       "<style scoped>\n",
       "    .dataframe tbody tr th:only-of-type {\n",
       "        vertical-align: middle;\n",
       "    }\n",
       "\n",
       "    .dataframe tbody tr th {\n",
       "        vertical-align: top;\n",
       "    }\n",
       "\n",
       "    .dataframe thead th {\n",
       "        text-align: right;\n",
       "    }\n",
       "</style>\n",
       "<table border=\"1\" class=\"dataframe\">\n",
       "  <thead>\n",
       "    <tr style=\"text-align: right;\">\n",
       "      <th></th>\n",
       "      <th>STATION</th>\n",
       "      <th>C/A</th>\n",
       "      <th>UNIT</th>\n",
       "      <th>SCP</th>\n",
       "      <th>DATE</th>\n",
       "      <th>ENTRIES</th>\n",
       "      <th>EXITS</th>\n",
       "    </tr>\n",
       "  </thead>\n",
       "  <tbody>\n",
       "    <tr>\n",
       "      <th>2</th>\n",
       "      <td>1 AV</td>\n",
       "      <td>H007</td>\n",
       "      <td>R248</td>\n",
       "      <td>00-00-00</td>\n",
       "      <td>04/29/2019</td>\n",
       "      <td>3227</td>\n",
       "      <td>3362</td>\n",
       "    </tr>\n",
       "    <tr>\n",
       "      <th>3</th>\n",
       "      <td>1 AV</td>\n",
       "      <td>H007</td>\n",
       "      <td>R248</td>\n",
       "      <td>00-00-00</td>\n",
       "      <td>04/30/2019</td>\n",
       "      <td>3585</td>\n",
       "      <td>3658</td>\n",
       "    </tr>\n",
       "    <tr>\n",
       "      <th>4</th>\n",
       "      <td>1 AV</td>\n",
       "      <td>H007</td>\n",
       "      <td>R248</td>\n",
       "      <td>00-00-00</td>\n",
       "      <td>05/01/2019</td>\n",
       "      <td>3440</td>\n",
       "      <td>3585</td>\n",
       "    </tr>\n",
       "    <tr>\n",
       "      <th>5</th>\n",
       "      <td>1 AV</td>\n",
       "      <td>H007</td>\n",
       "      <td>R248</td>\n",
       "      <td>00-00-00</td>\n",
       "      <td>05/02/2019</td>\n",
       "      <td>4288</td>\n",
       "      <td>3279</td>\n",
       "    </tr>\n",
       "    <tr>\n",
       "      <th>6</th>\n",
       "      <td>1 AV</td>\n",
       "      <td>H007</td>\n",
       "      <td>R248</td>\n",
       "      <td>00-00-00</td>\n",
       "      <td>05/03/2019</td>\n",
       "      <td>3393</td>\n",
       "      <td>3710</td>\n",
       "    </tr>\n",
       "    <tr>\n",
       "      <th>...</th>\n",
       "      <td>...</td>\n",
       "      <td>...</td>\n",
       "      <td>...</td>\n",
       "      <td>...</td>\n",
       "      <td>...</td>\n",
       "      <td>...</td>\n",
       "      <td>...</td>\n",
       "    </tr>\n",
       "    <tr>\n",
       "      <th>134890</th>\n",
       "      <td>ZEREGA AV</td>\n",
       "      <td>R419</td>\n",
       "      <td>R326</td>\n",
       "      <td>00-03-01</td>\n",
       "      <td>05/20/2019</td>\n",
       "      <td>1187</td>\n",
       "      <td>181</td>\n",
       "    </tr>\n",
       "    <tr>\n",
       "      <th>134891</th>\n",
       "      <td>ZEREGA AV</td>\n",
       "      <td>R419</td>\n",
       "      <td>R326</td>\n",
       "      <td>00-03-01</td>\n",
       "      <td>05/21/2019</td>\n",
       "      <td>1280</td>\n",
       "      <td>223</td>\n",
       "    </tr>\n",
       "    <tr>\n",
       "      <th>134892</th>\n",
       "      <td>ZEREGA AV</td>\n",
       "      <td>R419</td>\n",
       "      <td>R326</td>\n",
       "      <td>00-03-01</td>\n",
       "      <td>05/22/2019</td>\n",
       "      <td>1265</td>\n",
       "      <td>200</td>\n",
       "    </tr>\n",
       "    <tr>\n",
       "      <th>134893</th>\n",
       "      <td>ZEREGA AV</td>\n",
       "      <td>R419</td>\n",
       "      <td>R326</td>\n",
       "      <td>00-03-01</td>\n",
       "      <td>05/23/2019</td>\n",
       "      <td>1229</td>\n",
       "      <td>172</td>\n",
       "    </tr>\n",
       "    <tr>\n",
       "      <th>134894</th>\n",
       "      <td>ZEREGA AV</td>\n",
       "      <td>R419</td>\n",
       "      <td>R326</td>\n",
       "      <td>00-03-01</td>\n",
       "      <td>05/24/2019</td>\n",
       "      <td>1262</td>\n",
       "      <td>175</td>\n",
       "    </tr>\n",
       "  </tbody>\n",
       "</table>\n",
       "<p>117341 rows × 7 columns</p>\n",
       "</div>"
      ],
      "text/plain": [
       "          STATION   C/A  UNIT       SCP        DATE  ENTRIES  EXITS\n",
       "2            1 AV  H007  R248  00-00-00  04/29/2019     3227   3362\n",
       "3            1 AV  H007  R248  00-00-00  04/30/2019     3585   3658\n",
       "4            1 AV  H007  R248  00-00-00  05/01/2019     3440   3585\n",
       "5            1 AV  H007  R248  00-00-00  05/02/2019     4288   3279\n",
       "6            1 AV  H007  R248  00-00-00  05/03/2019     3393   3710\n",
       "...           ...   ...   ...       ...         ...      ...    ...\n",
       "134890  ZEREGA AV  R419  R326  00-03-01  05/20/2019     1187    181\n",
       "134891  ZEREGA AV  R419  R326  00-03-01  05/21/2019     1280    223\n",
       "134892  ZEREGA AV  R419  R326  00-03-01  05/22/2019     1265    200\n",
       "134893  ZEREGA AV  R419  R326  00-03-01  05/23/2019     1229    172\n",
       "134894  ZEREGA AV  R419  R326  00-03-01  05/24/2019     1262    175\n",
       "\n",
       "[117341 rows x 7 columns]"
      ]
     },
     "execution_count": 13,
     "metadata": {},
     "output_type": "execute_result"
    }
   ],
   "source": [
    "mta_traffic"
   ]
  },
  {
   "cell_type": "code",
   "execution_count": 14,
   "metadata": {},
   "outputs": [],
   "source": [
    "mta_station_rank = mta_traffic.groupby(['STATION']).sum()"
   ]
  },
  {
   "cell_type": "code",
   "execution_count": 15,
   "metadata": {},
   "outputs": [
    {
     "data": {
      "text/html": [
       "<div>\n",
       "<style scoped>\n",
       "    .dataframe tbody tr th:only-of-type {\n",
       "        vertical-align: middle;\n",
       "    }\n",
       "\n",
       "    .dataframe tbody tr th {\n",
       "        vertical-align: top;\n",
       "    }\n",
       "\n",
       "    .dataframe thead th {\n",
       "        text-align: right;\n",
       "    }\n",
       "</style>\n",
       "<table border=\"1\" class=\"dataframe\">\n",
       "  <thead>\n",
       "    <tr style=\"text-align: right;\">\n",
       "      <th></th>\n",
       "      <th>STATION</th>\n",
       "      <th>ENTRIES</th>\n",
       "      <th>EXITS</th>\n",
       "    </tr>\n",
       "  </thead>\n",
       "  <tbody>\n",
       "    <tr>\n",
       "      <th>0</th>\n",
       "      <td>PATH NEW WTC</td>\n",
       "      <td>1162669</td>\n",
       "      <td>1085562</td>\n",
       "    </tr>\n",
       "    <tr>\n",
       "      <th>1</th>\n",
       "      <td>JKSN HT-ROOSVLT</td>\n",
       "      <td>1174578</td>\n",
       "      <td>778454</td>\n",
       "    </tr>\n",
       "    <tr>\n",
       "      <th>2</th>\n",
       "      <td>47-50 STS ROCK</td>\n",
       "      <td>1243351</td>\n",
       "      <td>1441104</td>\n",
       "    </tr>\n",
       "    <tr>\n",
       "      <th>3</th>\n",
       "      <td>FLUSHING-MAIN</td>\n",
       "      <td>1258999</td>\n",
       "      <td>957407</td>\n",
       "    </tr>\n",
       "    <tr>\n",
       "      <th>4</th>\n",
       "      <td>CHAMBERS ST</td>\n",
       "      <td>1295376</td>\n",
       "      <td>1148886</td>\n",
       "    </tr>\n",
       "    <tr>\n",
       "      <th>5</th>\n",
       "      <td>14 ST</td>\n",
       "      <td>1376142</td>\n",
       "      <td>1252287</td>\n",
       "    </tr>\n",
       "    <tr>\n",
       "      <th>6</th>\n",
       "      <td>59 ST</td>\n",
       "      <td>1434192</td>\n",
       "      <td>1336455</td>\n",
       "    </tr>\n",
       "    <tr>\n",
       "      <th>7</th>\n",
       "      <td>96 ST</td>\n",
       "      <td>1515570</td>\n",
       "      <td>1133195</td>\n",
       "    </tr>\n",
       "    <tr>\n",
       "      <th>8</th>\n",
       "      <td>59 ST COLUMBUS</td>\n",
       "      <td>1572569</td>\n",
       "      <td>1401918</td>\n",
       "    </tr>\n",
       "    <tr>\n",
       "      <th>9</th>\n",
       "      <td>CANAL ST</td>\n",
       "      <td>1676901</td>\n",
       "      <td>1408650</td>\n",
       "    </tr>\n",
       "    <tr>\n",
       "      <th>10</th>\n",
       "      <td>125 ST</td>\n",
       "      <td>1848759</td>\n",
       "      <td>1432236</td>\n",
       "    </tr>\n",
       "    <tr>\n",
       "      <th>11</th>\n",
       "      <td>86 ST</td>\n",
       "      <td>1969557</td>\n",
       "      <td>1782394</td>\n",
       "    </tr>\n",
       "    <tr>\n",
       "      <th>12</th>\n",
       "      <td>TIMES SQ-42 ST</td>\n",
       "      <td>2026348</td>\n",
       "      <td>2143120</td>\n",
       "    </tr>\n",
       "    <tr>\n",
       "      <th>13</th>\n",
       "      <td>FULTON ST</td>\n",
       "      <td>2206935</td>\n",
       "      <td>1890170</td>\n",
       "    </tr>\n",
       "    <tr>\n",
       "      <th>14</th>\n",
       "      <td>14 ST-UNION SQ</td>\n",
       "      <td>2258780</td>\n",
       "      <td>2287816</td>\n",
       "    </tr>\n",
       "    <tr>\n",
       "      <th>15</th>\n",
       "      <td>42 ST-PORT AUTH</td>\n",
       "      <td>2305272</td>\n",
       "      <td>1773088</td>\n",
       "    </tr>\n",
       "    <tr>\n",
       "      <th>16</th>\n",
       "      <td>23 ST</td>\n",
       "      <td>2431924</td>\n",
       "      <td>1850333</td>\n",
       "    </tr>\n",
       "    <tr>\n",
       "      <th>17</th>\n",
       "      <td>34 ST-HERALD SQ</td>\n",
       "      <td>2627237</td>\n",
       "      <td>2588666</td>\n",
       "    </tr>\n",
       "    <tr>\n",
       "      <th>18</th>\n",
       "      <td>GRD CNTRL-42 ST</td>\n",
       "      <td>3224858</td>\n",
       "      <td>2863898</td>\n",
       "    </tr>\n",
       "    <tr>\n",
       "      <th>19</th>\n",
       "      <td>34 ST-PENN STA</td>\n",
       "      <td>3782729</td>\n",
       "      <td>3538581</td>\n",
       "    </tr>\n",
       "  </tbody>\n",
       "</table>\n",
       "</div>"
      ],
      "text/plain": [
       "            STATION  ENTRIES    EXITS\n",
       "0      PATH NEW WTC  1162669  1085562\n",
       "1   JKSN HT-ROOSVLT  1174578   778454\n",
       "2    47-50 STS ROCK  1243351  1441104\n",
       "3     FLUSHING-MAIN  1258999   957407\n",
       "4       CHAMBERS ST  1295376  1148886\n",
       "5             14 ST  1376142  1252287\n",
       "6             59 ST  1434192  1336455\n",
       "7             96 ST  1515570  1133195\n",
       "8    59 ST COLUMBUS  1572569  1401918\n",
       "9          CANAL ST  1676901  1408650\n",
       "10           125 ST  1848759  1432236\n",
       "11            86 ST  1969557  1782394\n",
       "12   TIMES SQ-42 ST  2026348  2143120\n",
       "13        FULTON ST  2206935  1890170\n",
       "14   14 ST-UNION SQ  2258780  2287816\n",
       "15  42 ST-PORT AUTH  2305272  1773088\n",
       "16            23 ST  2431924  1850333\n",
       "17  34 ST-HERALD SQ  2627237  2588666\n",
       "18  GRD CNTRL-42 ST  3224858  2863898\n",
       "19   34 ST-PENN STA  3782729  3538581"
      ]
     },
     "execution_count": 15,
     "metadata": {},
     "output_type": "execute_result"
    }
   ],
   "source": [
    "mta_rank = mta_station_rank.sort_values(by='ENTRIES', ascending = True).tail(20).reset_index()\n",
    "mta_rank"
   ]
  },
  {
   "cell_type": "code",
   "execution_count": 16,
   "metadata": {},
   "outputs": [],
   "source": [
    "mta_rank['TotalTraf'] = mta_rank['ENTRIES'] + mta_rank['EXITS']\n",
    "mta_final = mta_rank.sort_values(by = 'TotalTraf', ascending = True)"
   ]
  },
  {
   "cell_type": "code",
   "execution_count": 17,
   "metadata": {},
   "outputs": [
    {
     "data": {
      "text/plain": [
       "Index(['STATION', 'ENTRIES', 'EXITS', 'TotalTraf'], dtype='object')"
      ]
     },
     "execution_count": 17,
     "metadata": {},
     "output_type": "execute_result"
    }
   ],
   "source": [
    "mta_rank.columns"
   ]
  },
  {
   "cell_type": "code",
   "execution_count": 18,
   "metadata": {},
   "outputs": [
    {
     "data": {
      "text/plain": [
       "Index(['STATION', 'ENTRIES', 'EXITS', 'TotalTraf'], dtype='object')"
      ]
     },
     "execution_count": 18,
     "metadata": {},
     "output_type": "execute_result"
    }
   ],
   "source": [
    "mta_final.columns"
   ]
  },
  {
   "cell_type": "code",
   "execution_count": 19,
   "metadata": {},
   "outputs": [
    {
     "data": {
      "text/plain": [
       "<BarContainer object of 20 artists>"
      ]
     },
     "execution_count": 19,
     "metadata": {},
     "output_type": "execute_result"
    },
    {
     "data": {
      "image/png": "[encoded data removed]",
      "text/plain": [
       "<Figure size 432x288 with 1 Axes>"
      ]
     },
     "metadata": {
      "needs_background": "light"
     },
     "output_type": "display_data"
    }
   ],
   "source": [
    "plt.barh(mta_final['STATION'],mta_final['TotalTraf'], alpha = 0.5)"
   ]
  },
  {
   "cell_type": "code",
   "execution_count": 20,
   "metadata": {},
   "outputs": [
    {
     "data": {
      "image/png": "[encoded data removed]",
      "text/plain": [
       "<Figure size 432x288 with 1 Axes>"
      ]
     },
     "metadata": {
      "needs_background": "light"
     },
     "output_type": "display_data"
    }
   ],
   "source": [
    "plt.barh(mta_final['STATION'],mta_final['ENTRIES'], alpha = 0.5)\n",
    "plt.barh(mta_rank['STATION'],mta_rank['EXITS'], alpha = 0.5)\n",
    "plt.barh(mta_rank['STATION'],mta_rank['TotalTraf'], alpha = 0.5)\n",
    "plt.legend(['ENTRIES','EXITS','TOTAL']);"
   ]
  },
  {
   "cell_type": "code",
   "execution_count": 21,
   "metadata": {},
   "outputs": [],
   "source": [
    "y_ticks = [station for station in mta_final['STATION']]\n",
    "y_ticks\n",
    "location = range(1,41,2)"
   ]
  },
  {
   "cell_type": "code",
   "execution_count": 22,
   "metadata": {},
   "outputs": [],
   "source": [
    "n = 1  # This is our first dataset (out of 2)\n",
    "t = 2 # Number of datasets\n",
    "d = 20 # Number of sets of bars\n",
    "w = .8 # Width of each bar\n",
    "Entries = [t*element + w*n for element\n",
    "             in range(d)]\n",
    "n = 2  # This is our second dataset (out of 2)\n",
    "t = 2 # Number of datasets\n",
    "d = 20 # Number of sets of bars\n",
    "w = .8 # Width of each bar\n",
    "Exits = [t*element + w*n for element\n",
    "             in range(d)]\n"
   ]
  },
  {
   "cell_type": "code",
   "execution_count": 27,
   "metadata": {},
   "outputs": [
    {
     "data": {
      "text/plain": [
       "''"
      ]
     },
     "execution_count": 27,
     "metadata": {},
     "output_type": "execute_result"
    },
    {
     "data": {
      "image/png": "[encoded data removed]",
      "text/plain": [
       "<Figure size 1800x720 with 2 Axes>"
      ]
     },
     "metadata": {
      "needs_background": "light"
     },
     "output_type": "display_data"
    }
   ],
   "source": [
    "plt.figure(figsize = [25,10])\n",
    "plt.subplot(1,2,1)\n",
    "plt.barh(Entries,mta_final['ENTRIES'])\n",
    "plt.barh(Exits,mta_final['EXITS'])\n",
    "plt.yticks(location, y_ticks, fontsize = 20)\n",
    "plt.legend(['ENTRIES','EXITS'], fontsize = 15)\n",
    "plt.title('Entries and Exits', fontsize=30)\n",
    "plt.xlabel('Number of People', fontsize=20)\n",
    "plt.ylabel('Station', fontsize=20);\n",
    "plt.subplot(1,2,2)\n",
    "plt.yticks(fontsize = 20)\n",
    "plt.barh(mta_final['STATION'],mta_final['TotalTraf'])\n",
    "plt.legend(['TOTAL'], fontsize = 15)\n",
    "plt.title('Total Traffic', fontsize=30)\n",
    "plt.xlabel('Number of People', fontsize=20)\n",
    "plt.ylabel('Station', fontsize=20);\n",
    ";"
   ]
  },
  {
   "cell_type": "code",
   "execution_count": 24,
   "metadata": {},
   "outputs": [
    {
     "data": {
      "text/html": [
       "<div>\n",
       "<style scoped>\n",
       "    .dataframe tbody tr th:only-of-type {\n",
       "        vertical-align: middle;\n",
       "    }\n",
       "\n",
       "    .dataframe tbody tr th {\n",
       "        vertical-align: top;\n",
       "    }\n",
       "\n",
       "    .dataframe thead th {\n",
       "        text-align: right;\n",
       "    }\n",
       "</style>\n",
       "<table border=\"1\" class=\"dataframe\">\n",
       "  <thead>\n",
       "    <tr style=\"text-align: right;\">\n",
       "      <th></th>\n",
       "      <th>ENTRIES</th>\n",
       "      <th>EXITS</th>\n",
       "    </tr>\n",
       "    <tr>\n",
       "      <th>STATION</th>\n",
       "      <th></th>\n",
       "      <th></th>\n",
       "    </tr>\n",
       "  </thead>\n",
       "  <tbody>\n",
       "    <tr>\n",
       "      <th>34 ST-PENN STA</th>\n",
       "      <td>3782729</td>\n",
       "      <td>3538581</td>\n",
       "    </tr>\n",
       "    <tr>\n",
       "      <th>GRD CNTRL-42 ST</th>\n",
       "      <td>3224858</td>\n",
       "      <td>2863898</td>\n",
       "    </tr>\n",
       "    <tr>\n",
       "      <th>34 ST-HERALD SQ</th>\n",
       "      <td>2627237</td>\n",
       "      <td>2588666</td>\n",
       "    </tr>\n",
       "    <tr>\n",
       "      <th>14 ST-UNION SQ</th>\n",
       "      <td>2258780</td>\n",
       "      <td>2287816</td>\n",
       "    </tr>\n",
       "    <tr>\n",
       "      <th>TIMES SQ-42 ST</th>\n",
       "      <td>2026348</td>\n",
       "      <td>2143120</td>\n",
       "    </tr>\n",
       "    <tr>\n",
       "      <th>FULTON ST</th>\n",
       "      <td>2206935</td>\n",
       "      <td>1890170</td>\n",
       "    </tr>\n",
       "    <tr>\n",
       "      <th>23 ST</th>\n",
       "      <td>2431924</td>\n",
       "      <td>1850333</td>\n",
       "    </tr>\n",
       "    <tr>\n",
       "      <th>86 ST</th>\n",
       "      <td>1969557</td>\n",
       "      <td>1782394</td>\n",
       "    </tr>\n",
       "    <tr>\n",
       "      <th>42 ST-PORT AUTH</th>\n",
       "      <td>2305272</td>\n",
       "      <td>1773088</td>\n",
       "    </tr>\n",
       "    <tr>\n",
       "      <th>47-50 STS ROCK</th>\n",
       "      <td>1243351</td>\n",
       "      <td>1441104</td>\n",
       "    </tr>\n",
       "    <tr>\n",
       "      <th>125 ST</th>\n",
       "      <td>1848759</td>\n",
       "      <td>1432236</td>\n",
       "    </tr>\n",
       "    <tr>\n",
       "      <th>CANAL ST</th>\n",
       "      <td>1676901</td>\n",
       "      <td>1408650</td>\n",
       "    </tr>\n",
       "    <tr>\n",
       "      <th>59 ST COLUMBUS</th>\n",
       "      <td>1572569</td>\n",
       "      <td>1401918</td>\n",
       "    </tr>\n",
       "    <tr>\n",
       "      <th>59 ST</th>\n",
       "      <td>1434192</td>\n",
       "      <td>1336455</td>\n",
       "    </tr>\n",
       "    <tr>\n",
       "      <th>14 ST</th>\n",
       "      <td>1376142</td>\n",
       "      <td>1252287</td>\n",
       "    </tr>\n",
       "    <tr>\n",
       "      <th>CHAMBERS ST</th>\n",
       "      <td>1295376</td>\n",
       "      <td>1148886</td>\n",
       "    </tr>\n",
       "    <tr>\n",
       "      <th>96 ST</th>\n",
       "      <td>1515570</td>\n",
       "      <td>1133195</td>\n",
       "    </tr>\n",
       "    <tr>\n",
       "      <th>72 ST</th>\n",
       "      <td>1139252</td>\n",
       "      <td>1112452</td>\n",
       "    </tr>\n",
       "    <tr>\n",
       "      <th>PATH NEW WTC</th>\n",
       "      <td>1162669</td>\n",
       "      <td>1085562</td>\n",
       "    </tr>\n",
       "    <tr>\n",
       "      <th>28 ST</th>\n",
       "      <td>1042401</td>\n",
       "      <td>981025</td>\n",
       "    </tr>\n",
       "  </tbody>\n",
       "</table>\n",
       "</div>"
      ],
      "text/plain": [
       "                 ENTRIES    EXITS\n",
       "STATION                          \n",
       "34 ST-PENN STA   3782729  3538581\n",
       "GRD CNTRL-42 ST  3224858  2863898\n",
       "34 ST-HERALD SQ  2627237  2588666\n",
       "14 ST-UNION SQ   2258780  2287816\n",
       "TIMES SQ-42 ST   2026348  2143120\n",
       "FULTON ST        2206935  1890170\n",
       "23 ST            2431924  1850333\n",
       "86 ST            1969557  1782394\n",
       "42 ST-PORT AUTH  2305272  1773088\n",
       "47-50 STS ROCK   1243351  1441104\n",
       "125 ST           1848759  1432236\n",
       "CANAL ST         1676901  1408650\n",
       "59 ST COLUMBUS   1572569  1401918\n",
       "59 ST            1434192  1336455\n",
       "14 ST            1376142  1252287\n",
       "CHAMBERS ST      1295376  1148886\n",
       "96 ST            1515570  1133195\n",
       "72 ST            1139252  1112452\n",
       "PATH NEW WTC     1162669  1085562\n",
       "28 ST            1042401   981025"
      ]
     },
     "execution_count": 24,
     "metadata": {},
     "output_type": "execute_result"
    }
   ],
   "source": [
    "mta_station_rank.sort_values(by='EXITS', ascending = False).head(20)"
   ]
  },
  {
   "cell_type": "code",
   "execution_count": 25,
   "metadata": {},
   "outputs": [
    {
     "ename": "FileNotFoundError",
     "evalue": "[Errno 2] File census_block_loc.csv does not exist: 'census_block_loc.csv'",
     "output_type": "error",
     "traceback": [
      "\u001b[0;31m---------------------------------------------------------------------------\u001b[0m",
      "\u001b[0;31mFileNotFoundError\u001b[0m                         Traceback (most recent call last)",
      "\u001b[0;32m<ipython-input-25-c35c49e62321>\u001b[0m in \u001b[0;36m<module>\u001b[0;34m\u001b[0m\n\u001b[1;32m      2\u001b[0m \u001b[0mget_ipython\u001b[0m\u001b[0;34m(\u001b[0m\u001b[0;34m)\u001b[0m\u001b[0;34m.\u001b[0m\u001b[0mrun_line_magic\u001b[0m\u001b[0;34m(\u001b[0m\u001b[0;34m'matplotlib'\u001b[0m\u001b[0;34m,\u001b[0m \u001b[0;34m'inline'\u001b[0m\u001b[0;34m)\u001b[0m\u001b[0;34m\u001b[0m\u001b[0;34m\u001b[0m\u001b[0m\n\u001b[1;32m      3\u001b[0m \u001b[0;34m\u001b[0m\u001b[0m\n\u001b[0;32m----> 4\u001b[0;31m \u001b[0mblocks\u001b[0m \u001b[0;34m=\u001b[0m \u001b[0mpd\u001b[0m\u001b[0;34m.\u001b[0m\u001b[0mread_csv\u001b[0m\u001b[0;34m(\u001b[0m\u001b[0;34m'census_block_loc.csv'\u001b[0m\u001b[0;34m)\u001b[0m\u001b[0;34m\u001b[0m\u001b[0;34m\u001b[0m\u001b[0m\n\u001b[0m\u001b[1;32m      5\u001b[0m \u001b[0mcensus\u001b[0m \u001b[0;34m=\u001b[0m \u001b[0mpd\u001b[0m\u001b[0;34m.\u001b[0m\u001b[0mread_csv\u001b[0m\u001b[0;34m(\u001b[0m\u001b[0;34m'datasets_1682_3159_nyc_census_tracts.csv'\u001b[0m\u001b[0;34m,\u001b[0m\u001b[0mindex_col\u001b[0m\u001b[0;34m=\u001b[0m\u001b[0;36m0\u001b[0m\u001b[0;34m)\u001b[0m\u001b[0;34m\u001b[0m\u001b[0;34m\u001b[0m\u001b[0m\n",
      "\u001b[0;32m~/opt/anaconda3/envs/metis/lib/python3.8/site-packages/pandas/io/parsers.py\u001b[0m in \u001b[0;36mparser_f\u001b[0;34m(filepath_or_buffer, sep, delimiter, header, names, index_col, usecols, squeeze, prefix, mangle_dupe_cols, dtype, engine, converters, true_values, false_values, skipinitialspace, skiprows, skipfooter, nrows, na_values, keep_default_na, na_filter, verbose, skip_blank_lines, parse_dates, infer_datetime_format, keep_date_col, date_parser, dayfirst, cache_dates, iterator, chunksize, compression, thousands, decimal, lineterminator, quotechar, quoting, doublequote, escapechar, comment, encoding, dialect, error_bad_lines, warn_bad_lines, delim_whitespace, low_memory, memory_map, float_precision)\u001b[0m\n\u001b[1;32m    674\u001b[0m         )\n\u001b[1;32m    675\u001b[0m \u001b[0;34m\u001b[0m\u001b[0m\n\u001b[0;32m--> 676\u001b[0;31m         \u001b[0;32mreturn\u001b[0m \u001b[0m_read\u001b[0m\u001b[0;34m(\u001b[0m\u001b[0mfilepath_or_buffer\u001b[0m\u001b[0;34m,\u001b[0m \u001b[0mkwds\u001b[0m\u001b[0;34m)\u001b[0m\u001b[0;34m\u001b[0m\u001b[0;34m\u001b[0m\u001b[0m\n\u001b[0m\u001b[1;32m    677\u001b[0m \u001b[0;34m\u001b[0m\u001b[0m\n\u001b[1;32m    678\u001b[0m     \u001b[0mparser_f\u001b[0m\u001b[0;34m.\u001b[0m\u001b[0m__name__\u001b[0m \u001b[0;34m=\u001b[0m \u001b[0mname\u001b[0m\u001b[0;34m\u001b[0m\u001b[0;34m\u001b[0m\u001b[0m\n",
      "\u001b[0;32m~/opt/anaconda3/envs/metis/lib/python3.8/site-packages/pandas/io/parsers.py\u001b[0m in \u001b[0;36m_read\u001b[0;34m(filepath_or_buffer, kwds)\u001b[0m\n\u001b[1;32m    446\u001b[0m \u001b[0;34m\u001b[0m\u001b[0m\n\u001b[1;32m    447\u001b[0m     \u001b[0;31m# Create the parser.\u001b[0m\u001b[0;34m\u001b[0m\u001b[0;34m\u001b[0m\u001b[0;34m\u001b[0m\u001b[0m\n\u001b[0;32m--> 448\u001b[0;31m     \u001b[0mparser\u001b[0m \u001b[0;34m=\u001b[0m \u001b[0mTextFileReader\u001b[0m\u001b[0;34m(\u001b[0m\u001b[0mfp_or_buf\u001b[0m\u001b[0;34m,\u001b[0m \u001b[0;34m**\u001b[0m\u001b[0mkwds\u001b[0m\u001b[0;34m)\u001b[0m\u001b[0;34m\u001b[0m\u001b[0;34m\u001b[0m\u001b[0m\n\u001b[0m\u001b[1;32m    449\u001b[0m \u001b[0;34m\u001b[0m\u001b[0m\n\u001b[1;32m    450\u001b[0m     \u001b[0;32mif\u001b[0m \u001b[0mchunksize\u001b[0m \u001b[0;32mor\u001b[0m \u001b[0miterator\u001b[0m\u001b[0;34m:\u001b[0m\u001b[0;34m\u001b[0m\u001b[0;34m\u001b[0m\u001b[0m\n",
      "\u001b[0;32m~/opt/anaconda3/envs/metis/lib/python3.8/site-packages/pandas/io/parsers.py\u001b[0m in \u001b[0;36m__init__\u001b[0;34m(self, f, engine, **kwds)\u001b[0m\n\u001b[1;32m    878\u001b[0m             \u001b[0mself\u001b[0m\u001b[0;34m.\u001b[0m\u001b[0moptions\u001b[0m\u001b[0;34m[\u001b[0m\u001b[0;34m\"has_index_names\"\u001b[0m\u001b[0;34m]\u001b[0m \u001b[0;34m=\u001b[0m \u001b[0mkwds\u001b[0m\u001b[0;34m[\u001b[0m\u001b[0;34m\"has_index_names\"\u001b[0m\u001b[0;34m]\u001b[0m\u001b[0;34m\u001b[0m\u001b[0;34m\u001b[0m\u001b[0m\n\u001b[1;32m    879\u001b[0m \u001b[0;34m\u001b[0m\u001b[0m\n\u001b[0;32m--> 880\u001b[0;31m         \u001b[0mself\u001b[0m\u001b[0;34m.\u001b[0m\u001b[0m_make_engine\u001b[0m\u001b[0;34m(\u001b[0m\u001b[0mself\u001b[0m\u001b[0;34m.\u001b[0m\u001b[0mengine\u001b[0m\u001b[0;34m)\u001b[0m\u001b[0;34m\u001b[0m\u001b[0;34m\u001b[0m\u001b[0m\n\u001b[0m\u001b[1;32m    881\u001b[0m \u001b[0;34m\u001b[0m\u001b[0m\n\u001b[1;32m    882\u001b[0m     \u001b[0;32mdef\u001b[0m \u001b[0mclose\u001b[0m\u001b[0;34m(\u001b[0m\u001b[0mself\u001b[0m\u001b[0;34m)\u001b[0m\u001b[0;34m:\u001b[0m\u001b[0;34m\u001b[0m\u001b[0;34m\u001b[0m\u001b[0m\n",
      "\u001b[0;32m~/opt/anaconda3/envs/metis/lib/python3.8/site-packages/pandas/io/parsers.py\u001b[0m in \u001b[0;36m_make_engine\u001b[0;34m(self, engine)\u001b[0m\n\u001b[1;32m   1112\u001b[0m     \u001b[0;32mdef\u001b[0m \u001b[0m_make_engine\u001b[0m\u001b[0;34m(\u001b[0m\u001b[0mself\u001b[0m\u001b[0;34m,\u001b[0m \u001b[0mengine\u001b[0m\u001b[0;34m=\u001b[0m\u001b[0;34m\"c\"\u001b[0m\u001b[0;34m)\u001b[0m\u001b[0;34m:\u001b[0m\u001b[0;34m\u001b[0m\u001b[0;34m\u001b[0m\u001b[0m\n\u001b[1;32m   1113\u001b[0m         \u001b[0;32mif\u001b[0m \u001b[0mengine\u001b[0m \u001b[0;34m==\u001b[0m \u001b[0;34m\"c\"\u001b[0m\u001b[0;34m:\u001b[0m\u001b[0;34m\u001b[0m\u001b[0;34m\u001b[0m\u001b[0m\n\u001b[0;32m-> 1114\u001b[0;31m             \u001b[0mself\u001b[0m\u001b[0;34m.\u001b[0m\u001b[0m_engine\u001b[0m \u001b[0;34m=\u001b[0m \u001b[0mCParserWrapper\u001b[0m\u001b[0;34m(\u001b[0m\u001b[0mself\u001b[0m\u001b[0;34m.\u001b[0m\u001b[0mf\u001b[0m\u001b[0;34m,\u001b[0m \u001b[0;34m**\u001b[0m\u001b[0mself\u001b[0m\u001b[0;34m.\u001b[0m\u001b[0moptions\u001b[0m\u001b[0;34m)\u001b[0m\u001b[0;34m\u001b[0m\u001b[0;34m\u001b[0m\u001b[0m\n\u001b[0m\u001b[1;32m   1115\u001b[0m         \u001b[0;32melse\u001b[0m\u001b[0;34m:\u001b[0m\u001b[0;34m\u001b[0m\u001b[0;34m\u001b[0m\u001b[0m\n\u001b[1;32m   1116\u001b[0m             \u001b[0;32mif\u001b[0m \u001b[0mengine\u001b[0m \u001b[0;34m==\u001b[0m \u001b[0;34m\"python\"\u001b[0m\u001b[0;34m:\u001b[0m\u001b[0;34m\u001b[0m\u001b[0;34m\u001b[0m\u001b[0m\n",
      "\u001b[0;32m~/opt/anaconda3/envs/metis/lib/python3.8/site-packages/pandas/io/parsers.py\u001b[0m in \u001b[0;36m__init__\u001b[0;34m(self, src, **kwds)\u001b[0m\n\u001b[1;32m   1889\u001b[0m         \u001b[0mkwds\u001b[0m\u001b[0;34m[\u001b[0m\u001b[0;34m\"usecols\"\u001b[0m\u001b[0;34m]\u001b[0m \u001b[0;34m=\u001b[0m \u001b[0mself\u001b[0m\u001b[0;34m.\u001b[0m\u001b[0musecols\u001b[0m\u001b[0;34m\u001b[0m\u001b[0;34m\u001b[0m\u001b[0m\n\u001b[1;32m   1890\u001b[0m \u001b[0;34m\u001b[0m\u001b[0m\n\u001b[0;32m-> 1891\u001b[0;31m         \u001b[0mself\u001b[0m\u001b[0;34m.\u001b[0m\u001b[0m_reader\u001b[0m \u001b[0;34m=\u001b[0m \u001b[0mparsers\u001b[0m\u001b[0;34m.\u001b[0m\u001b[0mTextReader\u001b[0m\u001b[0;34m(\u001b[0m\u001b[0msrc\u001b[0m\u001b[0;34m,\u001b[0m \u001b[0;34m**\u001b[0m\u001b[0mkwds\u001b[0m\u001b[0;34m)\u001b[0m\u001b[0;34m\u001b[0m\u001b[0;34m\u001b[0m\u001b[0m\n\u001b[0m\u001b[1;32m   1892\u001b[0m         \u001b[0mself\u001b[0m\u001b[0;34m.\u001b[0m\u001b[0munnamed_cols\u001b[0m \u001b[0;34m=\u001b[0m \u001b[0mself\u001b[0m\u001b[0;34m.\u001b[0m\u001b[0m_reader\u001b[0m\u001b[0;34m.\u001b[0m\u001b[0munnamed_cols\u001b[0m\u001b[0;34m\u001b[0m\u001b[0;34m\u001b[0m\u001b[0m\n\u001b[1;32m   1893\u001b[0m \u001b[0;34m\u001b[0m\u001b[0m\n",
      "\u001b[0;32mpandas/_libs/parsers.pyx\u001b[0m in \u001b[0;36mpandas._libs.parsers.TextReader.__cinit__\u001b[0;34m()\u001b[0m\n",
      "\u001b[0;32mpandas/_libs/parsers.pyx\u001b[0m in \u001b[0;36mpandas._libs.parsers.TextReader._setup_parser_source\u001b[0;34m()\u001b[0m\n",
      "\u001b[0;31mFileNotFoundError\u001b[0m: [Errno 2] File census_block_loc.csv does not exist: 'census_block_loc.csv'"
     ]
    }
   ],
   "source": [
    "import matplotlib.pyplot as plt\n",
    "%matplotlib inline\n",
    "\n",
    "blocks = pd.read_csv('census_block_loc.csv')\n",
    "census = pd.read_csv('datasets_1682_3159_nyc_census_tracts.csv',index_col=0)"
   ]
  },
  {
   "cell_type": "code",
   "execution_count": null,
   "metadata": {},
   "outputs": [],
   "source": [
    "blocks = blocks[blocks.County.isin(['Bronx','Kings','New York','Queens','Richmond'])]\n",
    "blocks['Tract'] = blocks.BlockCode // 10000\n",
    "blocks = blocks.merge(census,how='left',right_index=True,left_on='Tract')"
   ]
  },
  {
   "cell_type": "code",
   "execution_count": null,
   "metadata": {},
   "outputs": [],
   "source": [
    "blocks.info(10)"
   ]
  },
  {
   "cell_type": "code",
   "execution_count": null,
   "metadata": {},
   "outputs": [],
   "source": [
    "def convert_to_2d(lats,lons,values):\n",
    "    latmin = 40.48\n",
    "    lonmin = -74.28\n",
    "    latmax = 40.93\n",
    "    lonmax = -73.65\n",
    "    lon_vals = np.mgrid[lonmin:lonmax:200j]\n",
    "    lat_vals = np.mgrid[latmin:latmax:200j]\n",
    "    map_values = np.zeros([200,200])\n",
    "    dlat = lat_vals[1] - lat_vals[0]\n",
    "    dlon = lon_vals[1] - lon_vals[0]\n",
    "    for lat,lon,value in zip(lats,lons,values):\n",
    "        lat_idx = int(np.rint((lat - latmin) / dlat))\n",
    "        lon_idx = int(np.rint((lon-lonmin) / dlon ))        \n",
    "        if not np.isnan(value):\n",
    "            map_values[lon_idx,lat_idx] = value\n",
    "    return lat_vals,lon_vals,map_values\n",
    "\n",
    "def make_plot(blocks, data_values,title='',colors='Greens'):\n",
    "    lat_vals,lon_vals,values = convert_to_2d(blocks.Latitude,blocks.Longitude,data_values)\n",
    "    fig, ax = plt.subplots(figsize = [12,12])\n",
    "\n",
    "    limits = np.min(lon_vals),np.max(lon_vals),np.min(lat_vals),np.max(lat_vals)\n",
    "    \n",
    "    im = ax.imshow(values.T,origin='lower',cmap=colors,extent=limits, zorder = 1)\n",
    "    ax.autoscale(False)\n",
    "    plt.xlabel('Longitude [degrees]')\n",
    "    plt.ylabel('Latitude [degrees]')\n",
    "    plt.title(title)\n",
    "    plt.colorbar(im,fraction=0.035, pad=0.04)\n",
    "    plt.show()"
   ]
  },
  {
   "cell_type": "code",
   "execution_count": null,
   "metadata": {},
   "outputs": [],
   "source": [
    "make_plot(blocks, blocks.Women,colors='magma',title='Distribution of Women')"
   ]
  },
  {
   "cell_type": "code",
   "execution_count": null,
   "metadata": {},
   "outputs": [],
   "source": [
    "make_plot(blocks, blocks.Professional,colors='magma',title='Distribution of Professionals')"
   ]
  },
  {
   "cell_type": "code",
   "execution_count": null,
   "metadata": {},
   "outputs": [],
   "source": [
    "make_plot(blocks, blocks.Transit,colors='magma',title='Distribution of Transits')"
   ]
  },
  {
   "cell_type": "code",
   "execution_count": null,
   "metadata": {},
   "outputs": [],
   "source": []
  },
  {
   "cell_type": "code",
   "execution_count": null,
   "metadata": {},
   "outputs": [],
   "source": []
  }
 ],
 "metadata": {
  "kernelspec": {
   "display_name": "Python [conda env:metis] *",
   "language": "python",
   "name": "conda-env-metis-py"
  },
  "language_info": {
   "codemirror_mode": {
    "name": "ipython",
    "version": 3
   },
   "file_extension": ".py",
   "mimetype": "text/x-python",
   "name": "python",
   "nbconvert_exporter": "python",
   "pygments_lexer": "ipython3",
   "version": "3.8.3"
  }
 },
 "nbformat": 4,
 "nbformat_minor": 4
}
